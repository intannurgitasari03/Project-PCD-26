{
 "cells": [
  {
   "cell_type": "code",
   "execution_count": 1,
   "id": "333427b1-01bc-4c3f-807c-01ff7f049ac3",
   "metadata": {},
   "outputs": [],
   "source": [
    "import os\n",
    "import cv2 as cv\n",
    "import matplotlib.pyplot as plt\n",
    "import numpy as np\n",
    "import pandas as pd\n",
    "from sklearn.model_selection import train_test_split, cross_val_predict\n",
    "from sklearn.metrics import accuracy_score, classification_report\n",
    "from skimage.feature import graycomatrix, graycoprops\n",
    "from scipy.stats import entropy\n",
    "from sklearn.ensemble import RandomForestClassifier\n",
    "from sklearn.svm import SVC\n",
    "from sklearn.neighbors import KNeighborsClassifier\n",
    "from sklearn.metrics import accuracy_score, precision_score, recall_score, f1_score, confusion_matrix, classification_report\n",
    "from sklearn.metrics import (confusion_matrix, ConfusionMatrixDisplay)\n",
    "import seaborn as sns"
   ]
  },
  {
   "cell_type": "markdown",
   "id": "4af61aac-a70e-4b54-acd4-16a5a8b974dd",
   "metadata": {},
   "source": [
    "# Data Loading"
   ]
  },
  {
   "cell_type": "code",
   "execution_count": 2,
   "id": "aa0c1ea2-37ed-427c-83d8-a3d05a628ae1",
   "metadata": {},
   "outputs": [],
   "source": [
    "data = []\n",
    "labels = []\n",
    "file_name = []\n",
    "for sub_folder in os.listdir(\"dataset/\"):\n",
    "    if sub_folder[0] == \".\":\n",
    "        continue\n",
    "\n",
    "    sub_folder_files = os.listdir(os.path.join(\"dataset/\", sub_folder))\n",
    "    for i, filename in enumerate(sub_folder_files):\n",
    "        img_path = os.path.join(\"dataset/\", sub_folder, filename)\n",
    "\n",
    "        img = cv.imread(img_path, cv.IMREAD_GRAYSCALE)\n",
    "        \n",
    "        data.append(img)\n",
    "        labels.append(sub_folder)\n",
    "        name = os.path.splitext(filename)[0]\n",
    "        file_name.append(filename)\n",
    "        \n",
    "data = np.array(data)\n",
    "labels = np.array(labels)"
   ]
  },
  {
   "cell_type": "markdown",
   "id": "0deb1c44-360c-4430-bfb9-20577fcf1758",
   "metadata": {},
   "source": [
    "# Data Augmentation"
   ]
  },
  {
   "cell_type": "markdown",
   "id": "5416f33c-f2c2-46c7-8b61-d36893935e56",
   "metadata": {},
   "source": [
    "## Define Augmentation Function"
   ]
  },
  {
   "cell_type": "code",
   "execution_count": 3,
   "id": "11423d42-c6f4-4f1b-8566-ef9a3c669e28",
   "metadata": {},
   "outputs": [],
   "source": [
    "data_augmented = []\n",
    "labels_augmented = []\n",
    "paths_augmented = []\n",
    "file_name_augmented = []\n",
    "for i in range(len(data)):\n",
    "\tpass"
   ]
  },
  {
   "cell_type": "code",
   "execution_count": 4,
   "id": "c792c6d7-7248-45d8-8afe-54bc1fc5758a",
   "metadata": {
    "scrolled": true
   },
   "outputs": [
    {
     "name": "stdout",
     "output_type": "stream",
     "text": [
      "Data sebelum augmentasi:  700\n",
      "Data setelah augmentasi:  0\n"
     ]
    }
   ],
   "source": [
    "print(\"Data sebelum augmentasi: \", len(data))\n",
    "print(\"Data setelah augmentasi: \", len(data_augmented))"
   ]
  },
  {
   "cell_type": "markdown",
   "id": "7c7a081c-3c9a-45ce-b4db-0764c488eeca",
   "metadata": {},
   "source": [
    "# Data Preparation"
   ]
  },
  {
   "cell_type": "markdown",
   "id": "a45cb4ff-81b5-4a6c-9dad-576dcf357edd",
   "metadata": {},
   "source": [
    "## Define Preprocessing Function"
   ]
  },
  {
   "cell_type": "code",
   "execution_count": null,
   "id": "42e4dedd-760e-44e8-bb91-7c61c8d50bab",
   "metadata": {},
   "outputs": [],
   "source": [
    "def resize(image, target_size):\n",
    "    result = np.zeros(target_size, image.dtype)\n",
    "    step = (image.shape[0] // target_size[0], image.shape[1] // target_size[1])\n",
    "    result = image[0::step[0], 0::step[1]]\n",
    "    return result\n",
    "\n",
    "def prepro1():\n",
    "    pass\n",
    "\n",
    "def prepro2():\n",
    "    pass\n",
    "\n",
    "def prepro3():\n",
    "    pass"
   ]
  },
  {
   "cell_type": "markdown",
   "id": "8b1803c2-5ecb-4e2e-9482-6ac4c69e8615",
   "metadata": {},
   "source": [
    "## Preprocessing"
   ]
  },
  {
   "cell_type": "code",
   "execution_count": null,
   "id": "83150347-5394-45c7-9131-7a4f82949a4d",
   "metadata": {},
   "outputs": [],
   "source": [
    "dataPreprocessed = []\n",
    "for i in range(len(data)):\n",
    "\tpass"
   ]
  },
  {
   "cell_type": "markdown",
   "id": "27add7f2-945d-4710-aa86-e7e09c0e3e43",
   "metadata": {},
   "source": [
    "## Feature Extraction"
   ]
  },
  {
   "cell_type": "code",
   "execution_count": null,
   "id": "920a4ab9-a061-403e-87ca-27fdd42d5f87",
   "metadata": {},
   "outputs": [],
   "source": [
    "def glcm(image, derajat):\n",
    "    if derajat == 0:\n",
    "        angles = [0]\n",
    "    elif derajat == 45:\n",
    "        angles = [np.pi / 4]\n",
    "    elif derajat == 90:\n",
    "        angles = [np.pi / 2]\n",
    "    elif derajat == 135:\n",
    "        angles = [3 * np.pi / 4]\n",
    "    else:\n",
    "        raise ValueError(\"Invalid angle. It should be one of the following: 0, 45, 90, 135.\")\n",
    "    \n",
    "    glcm = graycomatrix(image, [1], angles, 256, symmetric=True, normed=True)\n",
    "    return glcm"
   ]
  },
  {
   "cell_type": "code",
   "execution_count": null,
   "id": "1ed2bf5d-6915-429d-8d6c-124d6bdd604b",
   "metadata": {},
   "outputs": [],
   "source": [
    "def correlation(matriks):\n",
    "\treturn graycoprops(matriks, 'correlation')[0, 0]"
   ]
  },
  {
   "cell_type": "code",
   "execution_count": null,
   "id": "2bb9fa4e-05a2-4fef-bd8c-803881ec3674",
   "metadata": {},
   "outputs": [],
   "source": [
    "def dissimilarity(matriks):\n",
    "    return graycoprops(matriks, 'dissimilarity')[0, 0]"
   ]
  },
  {
   "cell_type": "code",
   "execution_count": null,
   "id": "898e9b73-ce61-40e4-9250-fbfd228207e5",
   "metadata": {},
   "outputs": [],
   "source": [
    "def homogenity(matriks):\n",
    "    return graycoprops(matriks, 'homogeneity')[0, 0]"
   ]
  },
  {
   "cell_type": "code",
   "execution_count": null,
   "id": "84651e22-1c84-49e9-8280-8f3a770fa4e8",
   "metadata": {},
   "outputs": [],
   "source": [
    "def ASM(matriks):\n",
    "    return graycoprops(matriks, 'ASM')[0, 0]"
   ]
  },
  {
   "cell_type": "code",
   "execution_count": null,
   "id": "11e98ae8-61fd-4f39-a975-067bba646151",
   "metadata": {},
   "outputs": [],
   "source": [
    "def energy(matriks):\n",
    "    return graycoprops(matriks, 'energy')[0, 0]"
   ]
  },
  {
   "cell_type": "code",
   "execution_count": null,
   "id": "3fb06914-c750-420f-9b09-6bdeca2867eb",
   "metadata": {},
   "outputs": [],
   "source": [
    "def entropyGlcm(matriks):\n",
    "    return entropy(matriks.ravel())"
   ]
  },
  {
   "cell_type": "markdown",
   "id": "143e334e-0ebb-4c85-9edd-9e0abd29a6ab",
   "metadata": {},
   "source": [
    "Derajat0 = []\n",
    "Derajat45 = []\n",
    "Derajat90 = []\n",
    "Derajat135 = []\n",
    "for i in range(len(dataPreprocessed)):\n",
    "    D0 = glcm(dataPreprocessed[i], 0)\n",
    "    D45 = glcm(dataPreprocessed[i], 45)\n",
    "    D90 = glcm(dataPreprocessed[i], 90)\n",
    "    D135 = glcm(dataPreprocessed[i], 135)\n",
    "    Derajat0.append(D0)\n",
    "    Derajat45.append(D45)\n",
    "    Derajat90.append(D90)\n",
    "    Derajat135.append(D135)"
   ]
  },
  {
   "cell_type": "markdown",
   "id": "07064992-6687-4aaa-8560-d56b2efed07d",
   "metadata": {},
   "source": [
    "Kontras0, Kontras45, Kontras90, Kontras135 = [], [], [], []\n",
    "dissimilarity0, dissimilarity45, dissimilarity90, dissimilarity135 =  [], [], [], []\n",
    "homogenity0, homogenity45, homogenity90, homogenity135 = [], [], [], []\n",
    "entropy0, entropy45, entropy90, entropy135 =  [], [], [], []\n",
    "ASM0, ASM45, ASM90, ASM135 =  [], [], [], []\n",
    "energy0, energy45, energy90, energy135 =  [], [], [], []\n",
    "correlation0, correlation45, correlation90, correlation135 = [], [], [], []"
   ]
  },
  {
   "cell_type": "markdown",
   "id": "2ed3970e-445c-482b-b2ef-14a1368c69f5",
   "metadata": {},
   "source": [
    "for i in range(len(dataPreprocessed)):\n",
    "    C0 = correlation(Derajat0[i])\n",
    "    correlation0.append(C0)\n",
    "    C45 = correlation(Derajat45[i])\n",
    "    correlation45.append(C45)\n",
    "    C90 = correlation(Derajat90[i])\n",
    "    correlation90.append(C90)\n",
    "    C135 = correlation(Derajat135[i])\n",
    "    correlation135.append(C135)"
   ]
  },
  {
   "cell_type": "markdown",
   "id": "4e7f692a-78e7-49c1-b8cb-7b7224ffda95",
   "metadata": {},
   "source": [
    "for i in range(len(data)):\n",
    "    K0 = contrast(Derajat0[i])\n",
    "    K45 = contrast(Derajat45[i])\n",
    "    K90 = contrast(Derajat90[i])\n",
    "    K135 = contrast(Derajat135[i])\n",
    "    Kontras0.append(K0)\n",
    "    Kontras45.append(K45)\n",
    "    Kontras90.append(K90)\n",
    "    Kontras135.append(K135)"
   ]
  },
  {
   "cell_type": "markdown",
   "id": "3ce6298f-326b-48a0-a0ff-d9f26bbff01f",
   "metadata": {},
   "source": [
    "for i in range(len(data)):\n",
    "    Dis0 = dissimilarity(Derajat0[i])\n",
    "    Dis45 = dissimilarity(Derajat45[i])\n",
    "    Dis90 = dissimilarity(Derajat90[i])\n",
    "    Dis135 = dissimilarity(Derajat135[i])\n",
    "    dissimilarity0.append(Dis0)\n",
    "    dissimilarity45.append(Dis45)\n",
    "    dissimilarity90.append(Dis90)\n",
    "    dissimilarity135.append(Dis135)"
   ]
  },
  {
   "cell_type": "markdown",
   "id": "717d3072-4107-4280-937f-56ac0da330c4",
   "metadata": {},
   "source": [
    "for i in range(len(data)):\n",
    "    H0 = homogenity(Derajat0[i])\n",
    "    H45 = homogenity(Derajat45[i])\n",
    "    H90 = homogenity(Derajat90[i])\n",
    "    H135 = homogenity(Derajat135[i])\n",
    "    homogenity0.append(H0)\n",
    "    homogenity45.append(H45)\n",
    "    homogenity90.append(H90)\n",
    "    homogenity135.append(H135)"
   ]
  },
  {
   "cell_type": "markdown",
   "id": "e893a4d9-ae57-49ec-a9da-e8121b28a68d",
   "metadata": {},
   "source": [
    "for i in range(len(data)):  \n",
    "    E0 = entropyGlcm(Derajat0[i])\n",
    "    E45 = entropyGlcm(Derajat45[i])\n",
    "    E90 = entropyGlcm(Derajat90[i])\n",
    "    E135 = entropyGlcm(Derajat135[i])\n",
    "    entropy0.append(E0)\n",
    "    entropy45.append(E45)\n",
    "    entropy90.append(E90)\n",
    "    entropy135.append(E135)"
   ]
  },
  {
   "cell_type": "markdown",
   "id": "8d57db23-52d9-473b-aab7-dafb2fa8f2a7",
   "metadata": {},
   "source": [
    "for i in range(len(data)):\n",
    "    A0 = ASM(Derajat0[i])\n",
    "    A45 = ASM(Derajat45[i])\n",
    "    A90 = ASM(Derajat90[i])\n",
    "    A135 = ASM(Derajat135[i])\n",
    "    ASM0.append(A0)\n",
    "    ASM45.append(A45)\n",
    "    ASM90.append(A90)\n",
    "    ASM135.append(A135)"
   ]
  },
  {
   "cell_type": "markdown",
   "id": "4fd6c708-6232-4bdc-bfdd-c0600e882947",
   "metadata": {},
   "source": [
    "for i in range(len(data)):\n",
    "    ER0 = energy(Derajat0[i])\n",
    "    ER45 = energy(Derajat45[i])\n",
    "    ER90 = energy(Derajat90[i])\n",
    "    ER135 = energy(Derajat135[i])\n",
    "    energy0.append(ER0)\n",
    "    energy45.append(ER45)\n",
    "    energy90.append(ER90)\n",
    "    energy135.append(ER135)"
   ]
  }
 ],
 "metadata": {
  "kernelspec": {
   "display_name": "Python 3 (ipykernel)",
   "language": "python",
   "name": "python3"
  },
  "language_info": {
   "codemirror_mode": {
    "name": "ipython",
    "version": 3
   },
   "file_extension": ".py",
   "mimetype": "text/x-python",
   "name": "python",
   "nbconvert_exporter": "python",
   "pygments_lexer": "ipython3",
   "version": "3.13.3"
  }
 },
 "nbformat": 4,
 "nbformat_minor": 5
}
