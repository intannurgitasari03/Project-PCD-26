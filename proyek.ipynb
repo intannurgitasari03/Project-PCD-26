{
 "cells": [
  {
   "cell_type": "code",
   "execution_count": 10,
   "id": "333427b1-01bc-4c3f-807c-01ff7f049ac3",
   "metadata": {},
   "outputs": [],
   "source": [
    "import os\n",
    "import cv2 as cv\n",
    "import matplotlib.pyplot as plt\n",
    "import numpy as np\n",
    "import pandas as pd\n",
    "from sklearn.model_selection import train_test_split, cross_val_predict\n",
    "from sklearn.metrics import accuracy_score, classification_report\n",
    "from skimage.feature import graycomatrix, graycoprops\n",
    "from scipy.stats import entropy\n",
    "from sklearn.ensemble import RandomForestClassifier\n",
    "from sklearn.svm import SVC\n",
    "from sklearn.neighbors import KNeighborsClassifier\n",
    "from sklearn.metrics import accuracy_score, precision_score, recall_score, f1_score, confusion_matrix, classification_report\n",
    "from sklearn.metrics import (confusion_matrix, ConfusionMatrixDisplay)\n",
    "import seaborn as sns"
   ]
  },
  {
   "cell_type": "markdown",
   "id": "4af61aac-a70e-4b54-acd4-16a5a8b974dd",
   "metadata": {},
   "source": [
    "# Data Loading"
   ]
  },
  {
   "cell_type": "code",
   "execution_count": 21,
   "id": "aa0c1ea2-37ed-427c-83d8-a3d05a628ae1",
   "metadata": {},
   "outputs": [],
   "source": [
    "data = []\n",
    "labels = []\n",
    "file_name = []\n",
    "for sub_folder in os.listdir(\"dataset/\"):\n",
    "    if sub_folder[0] == \".\":\n",
    "        continue\n",
    "\n",
    "    sub_folder_files = os.listdir(os.path.join(\"dataset/\", sub_folder))\n",
    "    for i, filename in enumerate(sub_folder_files):\n",
    "        img_path = os.path.join(\"dataset/\", sub_folder, filename)\n",
    "\n",
    "        img = cv.imread(img_path, cv.IMREAD_GRAYSCALE)\n",
    "        \n",
    "        data.append(img)\n",
    "        labels.append(sub_folder)\n",
    "        name = os.path.splitext(filename)[0]\n",
    "        file_name.append(filename)\n",
    "        \n",
    "data = np.array(data)\n",
    "labels = np.array(labels)"
   ]
  },
  {
   "cell_type": "markdown",
   "id": "0deb1c44-360c-4430-bfb9-20577fcf1758",
   "metadata": {},
   "source": [
    "# Data Augmentation"
   ]
  },
  {
   "cell_type": "markdown",
   "id": "5416f33c-f2c2-46c7-8b61-d36893935e56",
   "metadata": {},
   "source": [
    "## Define Augmentation Function"
   ]
  },
  {
   "cell_type": "code",
   "execution_count": 22,
   "id": "11423d42-c6f4-4f1b-8566-ef9a3c669e28",
   "metadata": {},
   "outputs": [],
   "source": [
    "data_augmented = []\n",
    "labels_augmented = []\n",
    "paths_augmented = []\n",
    "file_name_augmented = []\n",
    "for i in range(len(data)):\n",
    "\tpass"
   ]
  },
  {
   "cell_type": "code",
   "execution_count": 23,
   "id": "c792c6d7-7248-45d8-8afe-54bc1fc5758a",
   "metadata": {},
   "outputs": [
    {
     "name": "stdout",
     "output_type": "stream",
     "text": [
      "Data sebelum augmentasi:  700\n",
      "Data setelah augmentasi:  0\n"
     ]
    }
   ],
   "source": [
    "print(\"Data sebelum augmentasi: \", len(data))\n",
    "print(\"Data setelah augmentasi: \", len(data_augmented))"
   ]
  }
 ],
 "metadata": {
  "kernelspec": {
   "display_name": "Python 3 (ipykernel)",
   "language": "python",
   "name": "python3"
  },
  "language_info": {
   "codemirror_mode": {
    "name": "ipython",
    "version": 3
   },
   "file_extension": ".py",
   "mimetype": "text/x-python",
   "name": "python",
   "nbconvert_exporter": "python",
   "pygments_lexer": "ipython3",
   "version": "3.13.3"
  }
 },
 "nbformat": 4,
 "nbformat_minor": 5
}
